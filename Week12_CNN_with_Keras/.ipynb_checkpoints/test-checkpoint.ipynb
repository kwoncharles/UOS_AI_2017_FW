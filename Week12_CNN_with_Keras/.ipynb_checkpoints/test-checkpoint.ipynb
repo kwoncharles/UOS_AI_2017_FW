{
 "cells": [
  {
   "cell_type": "code",
   "execution_count": 1,
   "metadata": {},
   "outputs": [
    {
     "name": "stderr",
     "output_type": "stream",
     "text": [
      "Using Theano backend.\n"
     ]
    },
    {
     "name": "stdout",
     "output_type": "stream",
     "text": [
      "loadData t10k-images.idx3-ubyte\n",
      "magicNumber 2051\n",
      "nData 10000\n",
      "nRow 28\n",
      "nCol 28\n",
      "done.\n",
      "\n",
      "loadLabel t10k-labels.idx1-ubyte\n",
      "magicNumber 2049\n",
      "nData 10000\n",
      "done.\n",
      "\n",
      "len(tsDataList) 10000\n",
      "len(tsLabelList) 10000\n"
     ]
    }
   ],
   "source": [
    "import os\n",
    "import struct as st\n",
    "import numpy as np\n",
    "import numpy.random as nr\n",
    "import keras.models as km\n",
    "import keras.layers as kl\n",
    "import keras.optimizers as ko\n",
    "import keras.utils as ku\n",
    "\n",
    "nr.seed(12345)  # random seed 설정\n",
    "\n",
    "\n",
    "'''\n",
    "# MNIST 데이터 경로\n",
    "_SRC_PATH = u'..\\\\'\n",
    "_TEST_DATA_FILE = _SRC_PATH + u'\\\\t10k-images.idx3-ubyte'\n",
    "_TEST_LABEL_FILE = _SRC_PATH + u'\\\\t10k-labels.idx1-ubyte'\n",
    "'''\n",
    "_TEST_DATA_FILE = 't10k-images.idx3-ubyte'\n",
    "_TEST_LABEL_FILE = 't10k-labels.idx1-ubyte'\n",
    "\n",
    "\n",
    "# MNIST 데이터 크기 (28x28)\n",
    "_N_ROW = 28                 # 세로 28픽셀\n",
    "_N_COL = 28                 # 가로 28픽셀\n",
    "_N_PIXEL = _N_ROW * _N_COL\n",
    "\n",
    "\n",
    "def loadData(fn):\n",
    "    print 'loadData', fn\n",
    "    \n",
    "    fd = open(fn, 'rb')\n",
    "    \n",
    "    # header: 32bit integer (big-endian)\n",
    "    magicNumber = st.unpack('>I', fd.read(4))[0]\n",
    "    nData = st.unpack('>I', fd.read(4))[0]\n",
    "    nRow = st.unpack('>I', fd.read(4))[0]\n",
    "    nCol = st.unpack('>I', fd.read(4))[0]\n",
    "    \n",
    "    print 'magicNumber', magicNumber\n",
    "    print 'nData', nData\n",
    "    print 'nRow', nRow\n",
    "    print 'nCol', nCol\n",
    "    \n",
    "    # data: unsigned byte\n",
    "    dataList = []\n",
    "    for i in range(nData):\n",
    "        dataRawList = fd.read(_N_PIXEL)\n",
    "        dataNumList = st.unpack('B' * _N_PIXEL, dataRawList)\n",
    "        dataArr = np.array(dataNumList).reshape(_N_ROW, _N_COL)\n",
    "        #dataArr = np.array(dataNumList)\n",
    "        # overflow 수정\n",
    "        dataList.append(dataArr.astype('float32'))\n",
    "        \n",
    "    fd.close()\n",
    "    \n",
    "    print 'done.'\n",
    "    print\n",
    "    \n",
    "    return dataList\n",
    "    \n",
    "\n",
    "\n",
    "def loadLabel(fn):\n",
    "    print 'loadLabel', fn\n",
    "    \n",
    "    fd = open(fn, 'rb')\n",
    "    \n",
    "    # header: 32bit integer (big-endian)\n",
    "    magicNumber = st.unpack('>I', fd.read(4))[0]\n",
    "    nData = st.unpack('>I', fd.read(4))[0]\n",
    "    \n",
    "    print 'magicNumber', magicNumber\n",
    "    print 'nData', nData\n",
    "    \n",
    "    # data: unsigned byte\n",
    "    labelList = []\n",
    "    for i in range(nData):\n",
    "        dataLabel = st.unpack('B', fd.read(1))[0]\n",
    "        labelList.append(dataLabel)\n",
    "        \n",
    "    fd.close()\n",
    "    \n",
    "    print 'done.'\n",
    "    print\n",
    "    \n",
    "    return labelList\n",
    "\n",
    "\n",
    "def loadMNIST():\n",
    "    # 테스트 데이터 / 레이블 로드\n",
    "    tsDataList = loadData(_TEST_DATA_FILE)\n",
    "    tsLabelList = loadLabel(_TEST_LABEL_FILE)\n",
    "    \n",
    "    return tsDataList, tsLabelList\n",
    "\n",
    "    \n",
    "    \n",
    "if __name__ == '__main__':\n",
    "    tsDataList, tsLabelList = loadMNIST()\n",
    "    \n",
    "    print 'len(tsDataList)', len(tsDataList)\n",
    "    print 'len(tsLabelList)', len(tsLabelList)\n",
    "    \n",
    "    \n",
    "# Test Label reshape as Onehot\n",
    "tslabel_onehot=ku.np_utils.to_categorical(tsLabelList,num_classes=10)\n",
    "\n",
    "# Data사용이 용이하게 numpy array로 바꿔준다\n",
    "tsDataList = np.array(tsDataList).reshape(10000,28,28,1)"
   ]
  },
  {
   "cell_type": "code",
   "execution_count": 10,
   "metadata": {},
   "outputs": [],
   "source": [
    "model = km.load_model('model')"
   ]
  },
  {
   "cell_type": "code",
   "execution_count": 14,
   "metadata": {},
   "outputs": [
    {
     "name": "stdout",
     "output_type": "stream",
     "text": [
      "8247/10000\n"
     ]
    }
   ],
   "source": [
    "model = km.load_model('model')\n",
    "\n",
    "res = model.predict(tsDataList, batch_size=3)\n",
    "res = np.argmax(res, axis=1)\n",
    "\n",
    "correct=0\n",
    "for i in range(len(tsLabelList)):\n",
    "    if(tsLabelList[i] == res[i]):\n",
    "        correct+=1\n",
    "\n",
    "print \"%d/%d\"%(correct,len(tsLabelList))\n",
    "\n",
    "fp = open('test_output','wt')\n",
    "fp.write(\"Test result (SID : 2015920070)\")\n",
    "fp.write(\"\\nCorrect answers : %d/%d\\nError rate : %.3f\"%(correct,len(tsLabelList),1.0-(np.float(correct)/len(tsLabelList))))\n",
    "fp.close()"
   ]
  },
  {
   "cell_type": "code",
   "execution_count": null,
   "metadata": {
    "collapsed": true
   },
   "outputs": [],
   "source": []
  },
  {
   "cell_type": "code",
   "execution_count": null,
   "metadata": {
    "collapsed": true
   },
   "outputs": [],
   "source": []
  },
  {
   "cell_type": "code",
   "execution_count": null,
   "metadata": {
    "collapsed": true
   },
   "outputs": [],
   "source": []
  },
  {
   "cell_type": "code",
   "execution_count": null,
   "metadata": {
    "collapsed": true
   },
   "outputs": [],
   "source": []
  },
  {
   "cell_type": "code",
   "execution_count": null,
   "metadata": {
    "collapsed": true
   },
   "outputs": [],
   "source": []
  },
  {
   "cell_type": "code",
   "execution_count": null,
   "metadata": {
    "collapsed": true
   },
   "outputs": [],
   "source": []
  },
  {
   "cell_type": "code",
   "execution_count": null,
   "metadata": {
    "collapsed": true
   },
   "outputs": [],
   "source": []
  },
  {
   "cell_type": "code",
   "execution_count": null,
   "metadata": {
    "collapsed": true
   },
   "outputs": [],
   "source": []
  },
  {
   "cell_type": "code",
   "execution_count": null,
   "metadata": {
    "collapsed": true
   },
   "outputs": [],
   "source": []
  }
 ],
 "metadata": {
  "kernelspec": {
   "display_name": "Python 2",
   "language": "python",
   "name": "python2"
  },
  "language_info": {
   "codemirror_mode": {
    "name": "ipython",
    "version": 2
   },
   "file_extension": ".py",
   "mimetype": "text/x-python",
   "name": "python",
   "nbconvert_exporter": "python",
   "pygments_lexer": "ipython2",
   "version": "2.7.13"
  }
 },
 "nbformat": 4,
 "nbformat_minor": 2
}
