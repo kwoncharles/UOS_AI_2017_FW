{
 "cells": [
  {
   "cell_type": "code",
   "execution_count": 51,
   "metadata": {},
   "outputs": [
    {
     "name": "stdout",
     "output_type": "stream",
     "text": [
      "loadData train-images.idx3-ubyte\n",
      "magicNumber 2051\n",
      "nData 60000\n",
      "nRow 28\n",
      "nCol 28\n",
      "done.\n",
      "loadLabel train-labels.idx1-ubyte\n",
      "magicNumber 2049\n",
      "nData 60000\n",
      "done.\n",
      "\n",
      "len(trDataList) 60000\n",
      "len(trLabelList) 60000\n"
     ]
    }
   ],
   "source": [
    "import os\n",
    "import struct as st\n",
    "import numpy as np\n",
    "import numpy.random as nr\n",
    "import keras.models as km\n",
    "import keras.layers as kl\n",
    "import keras.optimizers as ko\n",
    "import keras.utils as ku\n",
    "\n",
    "nr.seed(12345)  # random seed 설정\n",
    "\n",
    "\n",
    "# MNIST 데이터 경로\n",
    "_SRC_PATH = u'..\\\\'\n",
    "#_TRAIN_DATA_FILE = _SRC_PATH + u'\\\\train-images.idx3-ubyte'\n",
    "#_TRAIN_LABEL_FILE = _SRC_PATH + u'\\\\train-labels.idx1-ubyte'\n",
    "\n",
    "_TRAIN_DATA_FILE = 'train-images.idx3-ubyte'\n",
    "_TRAIN_LABEL_FILE = 'train-labels.idx1-ubyte'\n",
    "\n",
    "\n",
    "# MNIST 데이터 크기 (28x28)\n",
    "_N_ROW = 28                 # 세로 28픽셀\n",
    "_N_COL = 28                 # 가로 28픽셀\n",
    "_N_PIXEL = _N_ROW * _N_COL\n",
    "\n",
    "\n",
    "\n",
    "def drawImage(dataArr, fn):\n",
    "    fig, ax = plt.subplots()\n",
    "    ax.imshow(dataArr, cmap='gray')\n",
    "    plt.show()\n",
    "    plt.savefig(fn)\n",
    "    \n",
    "    \n",
    "    \n",
    "def loadData(fn):\n",
    "    print 'loadData', fn\n",
    "    \n",
    "    fd = open(fn, 'rb')\n",
    "    \n",
    "    # header: 32bit integer (big-endian)\n",
    "    magicNumber = st.unpack('>I', fd.read(4))[0]\n",
    "    nData = st.unpack('>I', fd.read(4))[0]\n",
    "    nRow = st.unpack('>I', fd.read(4))[0]\n",
    "    nCol = st.unpack('>I', fd.read(4))[0]\n",
    "    \n",
    "    print 'magicNumber', magicNumber\n",
    "    print 'nData', nData\n",
    "    print 'nRow', nRow\n",
    "    print 'nCol', nCol\n",
    "    \n",
    "    # data: unsigned byte\n",
    "    dataList = []\n",
    "    for i in range(nData):\n",
    "        dataRawList = fd.read(_N_PIXEL)\n",
    "        dataNumList = st.unpack('B' * _N_PIXEL, dataRawList)\n",
    "        dataArr = np.array(dataNumList).reshape(_N_ROW, _N_COL)\n",
    "        #dataArr = np.array(dataNumList)\n",
    "        # overflow 수정\n",
    "        dataList.append(dataArr.astype('float32')/255.0)\n",
    "        \n",
    "    fd.close()\n",
    "    \n",
    "    print 'done.'\n",
    "    \n",
    "    return dataList\n",
    "    \n",
    "\n",
    "\n",
    "def loadLabel(fn):\n",
    "    print 'loadLabel', fn\n",
    "    \n",
    "    fd = open(fn, 'rb')\n",
    "    \n",
    "    # header: 32bit integer (big-endian)\n",
    "    magicNumber = st.unpack('>I', fd.read(4))[0]\n",
    "    nData = st.unpack('>I', fd.read(4))[0]\n",
    "    \n",
    "    print 'magicNumber', magicNumber\n",
    "    print 'nData', nData\n",
    "    \n",
    "    # data: unsigned byte\n",
    "    labelList = []\n",
    "    for i in range(nData):\n",
    "        dataLabel = st.unpack('B', fd.read(1))[0]\n",
    "        labelList.append(dataLabel)\n",
    "        \n",
    "    fd.close()\n",
    "    \n",
    "    print 'done.'\n",
    "    print\n",
    "    \n",
    "    return labelList\n",
    "\n",
    "\n",
    "\n",
    "def loadMNIST():\n",
    "    # 학습 데이터 / 레이블 로드\n",
    "    trDataList = loadData(_TRAIN_DATA_FILE)\n",
    "    trLabelList = loadLabel(_TRAIN_LABEL_FILE)\n",
    "    \n",
    "    return trDataList, trLabelList\n",
    "\n",
    "    \n",
    "    \n",
    "if __name__ == '__main__':\n",
    "    trDataList, trLabelList = loadMNIST()\n",
    "    \n",
    "    print 'len(trDataList)', len(trDataList)\n",
    "    print 'len(trLabelList)', len(trLabelList)\n",
    "    \n",
    "# Test Label reshape as Onehot\n",
    "trlabel_onehot=ku.np_utils.to_categorical(trLabelList,num_classes=10)\n",
    "\n",
    "# Data사용이 용이하게 numpy array로 바꿔준다\n",
    "trDataList = np.array(trDataList).reshape(60000,28,28,1)"
   ]
  },
  {
   "cell_type": "code",
   "execution_count": 96,
   "metadata": {
    "collapsed": true
   },
   "outputs": [],
   "source": [
    "model = km.Sequential()\n",
    "\n",
    "model.add(kl.Conv2D(input_shape=(28,28,1), filters=3, kernel_size=(3,3), strides=1,padding='same'))\n",
    "model.add(kl.Activation('relu'))\n",
    "model.add(kl.Conv2D(filters=5, kernel_size=(3,3), strides=2,padding='same'))\n",
    "model.add(kl.Activation('relu'))\n",
    "model.add(kl.Flatten())\n",
    "model.add(kl.Dense(units=10))\n",
    "model.add(kl.Activation('sigmoid'))\n",
    "\n",
    "model.compile(loss='mean_squared_error',optimizer=ko.SGD(lr=0.05,decay = 0.001, momentum=0.9),metrics=['accuracy'])\n"
   ]
  },
  {
   "cell_type": "code",
   "execution_count": 99,
   "metadata": {},
   "outputs": [
    {
     "name": "stdout",
     "output_type": "stream",
     "text": [
      "Epoch 1/3\n",
      "60000/60000 [==============================] - 14s - loss: 0.0125 - acc: 0.9366    \n",
      "Epoch 2/3\n",
      "60000/60000 [==============================] - 13s - loss: 0.0118 - acc: 0.9408    \n",
      "Epoch 3/3\n",
      "60000/60000 [==============================] - 13s - loss: 0.0113 - acc: 0.9443    \n"
     ]
    }
   ],
   "source": [
    "fp = open('train_log','wt')\n",
    "\n",
    "epoch_num = 3\n",
    "\n",
    "train_log=model.fit(trDataList, trlabel_onehot, epochs=epoch_num, batch_size=3)\n",
    "\n",
    "fp.write(\"----2015920070----\\n\\nTrain log\\n\\n\")\n",
    "for i in range(epoch_num):\n",
    "    fp.write(\"epoch%d loss : %.3f , accuracy : %.3f\\n\"%(i+1,train_log.history['loss'][i], train_log.history['acc'][i]))\n",
    "    \n",
    "fp.close()"
   ]
  },
  {
   "cell_type": "code",
   "execution_count": null,
   "metadata": {
    "collapsed": true
   },
   "outputs": [],
   "source": []
  },
  {
   "cell_type": "code",
   "execution_count": 100,
   "metadata": {},
   "outputs": [
    {
     "name": "stdout",
     "output_type": "stream",
     "text": [
      "res (60000, 10)\n",
      "[[  4.29110478e-05   1.36536494e-06   3.92344082e-04 ...,   8.64063040e-04\n",
      "    1.28419095e-04   1.16789772e-03]\n",
      " [  9.97296274e-01   7.53010918e-11   1.14124450e-04 ...,   2.88901851e-04\n",
      "    3.33446005e-05   1.33908397e-05]\n",
      " [  1.67040314e-04   1.86592897e-05   8.26148503e-03 ...,   1.50608737e-02\n",
      "    4.73750231e-04   7.10321707e-04]\n",
      " ..., \n",
      " [  1.76150395e-04   1.11882773e-05   3.51841550e-07 ...,   4.99837406e-05\n",
      "    1.17897922e-02   1.90909337e-02]\n",
      " [  1.24184266e-02   4.77820890e-07   1.93338958e-03 ...,   3.71870265e-04\n",
      "    8.79830986e-05   6.82605896e-05]\n",
      " [  5.57734966e-02   4.78180527e-06   2.81119981e-04 ...,   1.50461635e-03\n",
      "    9.67855394e-01   3.76194417e-02]]\n",
      "[5 0 4 ..., 5 6 8]\n",
      "56740/60000\n"
     ]
    }
   ],
   "source": [
    "res = model.predict(trDataList, batch_size=4)\n",
    "print 'res', res.shape\n",
    "print res\n",
    "print np.argmax(res, axis=1)\n",
    "\n",
    "res= np.argmax(res, axis=1)\n",
    "\n",
    "correct=0\n",
    "for i in range(len(trLabelList)):\n",
    "    if(trLabelList[i] == res[i]):\n",
    "        correct+=1\n",
    "\n",
    "print \"%d/%d\"%(correct,len(trLabelList))\n",
    "\n",
    "\n",
    "\n",
    "fp.close()\n",
    "\n",
    "# 가장 결과가 좋았던 파라미터를 모델로 저장\n",
    "model.set_weights(best_param)\n",
    "km.save_model(model,'model')"
   ]
  },
  {
   "cell_type": "code",
   "execution_count": null,
   "metadata": {
    "collapsed": true
   },
   "outputs": [],
   "source": []
  },
  {
   "cell_type": "markdown",
   "metadata": {},
   "source": [
    "54172.0/60000"
   ]
  },
  {
   "cell_type": "code",
   "execution_count": 35,
   "metadata": {},
   "outputs": [
    {
     "name": "stdout",
     "output_type": "stream",
     "text": [
      "0\n"
     ]
    }
   ],
   "source": []
  },
  {
   "cell_type": "code",
   "execution_count": null,
   "metadata": {
    "collapsed": true
   },
   "outputs": [],
   "source": []
  },
  {
   "cell_type": "code",
   "execution_count": null,
   "metadata": {
    "collapsed": true
   },
   "outputs": [],
   "source": []
  },
  {
   "cell_type": "code",
   "execution_count": 6,
   "metadata": {},
   "outputs": [
    {
     "ename": "NameError",
     "evalue": "name 'hi' is not defined",
     "output_type": "error",
     "traceback": [
      "\u001b[0;31m---------------------------------------------------------------------------\u001b[0m",
      "\u001b[0;31mNameError\u001b[0m                                 Traceback (most recent call last)",
      "\u001b[0;32m<ipython-input-6-af75b3cea540>\u001b[0m in \u001b[0;36m<module>\u001b[0;34m()\u001b[0m\n\u001b[0;32m----> 1\u001b[0;31m \u001b[0mbye\u001b[0m\u001b[0;34m=\u001b[0m\u001b[0mhi\u001b[0m\u001b[0;34m.\u001b[0m\u001b[0mpredict\u001b[0m\u001b[0;34m(\u001b[0m\u001b[0mtrDataList\u001b[0m\u001b[0;34m,\u001b[0m\u001b[0mbatch_size\u001b[0m\u001b[0;34m=\u001b[0m\u001b[0;36m3\u001b[0m\u001b[0;34m)\u001b[0m\u001b[0;34m\u001b[0m\u001b[0m\n\u001b[0m\u001b[1;32m      2\u001b[0m \u001b[0mbye\u001b[0m \u001b[0;34m=\u001b[0m \u001b[0mnp\u001b[0m\u001b[0;34m.\u001b[0m\u001b[0margmax\u001b[0m\u001b[0;34m(\u001b[0m\u001b[0mbye\u001b[0m\u001b[0;34m,\u001b[0m\u001b[0maxis\u001b[0m\u001b[0;34m=\u001b[0m\u001b[0;36m1\u001b[0m\u001b[0;34m)\u001b[0m\u001b[0;34m\u001b[0m\u001b[0m\n\u001b[1;32m      3\u001b[0m \u001b[0;34m\u001b[0m\u001b[0m\n\u001b[1;32m      4\u001b[0m \u001b[0mcorrect\u001b[0m\u001b[0;34m=\u001b[0m\u001b[0;36m0\u001b[0m\u001b[0;34m\u001b[0m\u001b[0m\n\u001b[1;32m      5\u001b[0m \u001b[0;32mfor\u001b[0m \u001b[0mi\u001b[0m \u001b[0;32min\u001b[0m \u001b[0mrange\u001b[0m\u001b[0;34m(\u001b[0m\u001b[0mlen\u001b[0m\u001b[0;34m(\u001b[0m\u001b[0mtrLabelList\u001b[0m\u001b[0;34m)\u001b[0m\u001b[0;34m)\u001b[0m\u001b[0;34m:\u001b[0m\u001b[0;34m\u001b[0m\u001b[0m\n",
      "\u001b[0;31mNameError\u001b[0m: name 'hi' is not defined"
     ]
    }
   ],
   "source": [
    "bye=hi.predict(trDataList,batch_size=3)\n",
    "bye = np.argmax(bye,axis=1)\n",
    "\n",
    "correct=0\n",
    "for i in range(len(trLabelList)):\n",
    "    if(trLabelList[i] == bye[i]):\n",
    "        correct+=1\n",
    "\n",
    "print \"%d/%d\"%(correct,len(trLabelList))"
   ]
  },
  {
   "cell_type": "code",
   "execution_count": null,
   "metadata": {
    "collapsed": true
   },
   "outputs": [],
   "source": []
  },
  {
   "cell_type": "code",
   "execution_count": 39,
   "metadata": {},
   "outputs": [
    {
     "data": {
      "text/plain": [
       "0.9766833333333333"
      ]
     },
     "execution_count": 39,
     "metadata": {},
     "output_type": "execute_result"
    }
   ],
   "source": [
    "(np.float(correct)/len(trLabelList))"
   ]
  },
  {
   "cell_type": "code",
   "execution_count": null,
   "metadata": {
    "collapsed": true
   },
   "outputs": [],
   "source": []
  }
 ],
 "metadata": {
  "kernelspec": {
   "display_name": "Python 2",
   "language": "python",
   "name": "python2"
  },
  "language_info": {
   "codemirror_mode": {
    "name": "ipython",
    "version": 2
   },
   "file_extension": ".py",
   "mimetype": "text/x-python",
   "name": "python",
   "nbconvert_exporter": "python",
   "pygments_lexer": "ipython2",
   "version": "2.7.13"
  }
 },
 "nbformat": 4,
 "nbformat_minor": 2
}
